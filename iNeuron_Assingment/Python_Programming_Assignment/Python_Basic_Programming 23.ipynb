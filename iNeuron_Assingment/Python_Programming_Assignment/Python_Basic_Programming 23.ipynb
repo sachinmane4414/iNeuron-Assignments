{
 "cells": [
  {
   "cell_type": "markdown",
   "id": "15517449",
   "metadata": {},
   "source": [
    "## Question 1\n",
    "\n",
    "Create a function that takes a number as an argument and returns True or False depending on whether the number is symmetrical or not. A number is symmetrical when it is the same as its reverse.\n",
    "\n",
    "Examples\n",
    "```\n",
    "is_symmetrical(7227) ➞ True\n",
    "\n",
    "is_symmetrical(12567) ➞ False\n",
    "\n",
    "is_symmetrical(44444444) ➞ True\n",
    "\n",
    "is_symmetrical(9939) ➞ False\n",
    "\n",
    "is_symmetrical(1112111) ➞ True\n",
    "```"
   ]
  },
  {
   "cell_type": "code",
   "execution_count": 1,
   "id": "dc10b398",
   "metadata": {},
   "outputs": [
    {
     "name": "stdout",
     "output_type": "stream",
     "text": [
      "True\n",
      "False\n",
      "True\n",
      "False\n",
      "True\n"
     ]
    }
   ],
   "source": [
    "def is_symmetrical(num):\n",
    "  \"\"\"\n",
    "  Returns True if a number is symmetrical (same as its reverse), else False.\n",
    "  \"\"\"\n",
    "  return str(num) == str(num)[::-1]\n",
    "\n",
    "print(is_symmetrical(7227)) # True\n",
    "print(is_symmetrical(12567)) # False\n",
    "print(is_symmetrical(44444444)) # True\n",
    "print(is_symmetrical(9939)) # False\n",
    "print(is_symmetrical(1112111)) # True\n"
   ]
  },
  {
   "cell_type": "markdown",
   "id": "57c7969a",
   "metadata": {},
   "source": [
    "## Question 2\n",
    "\n",
    "Given a string of numbers separated by a comma and space, return the product of the numbers.\n",
    "\n",
    "Examples\n",
    "```\n",
    "multiply_nums(\"2, 3\") ➞ 6\n",
    "\n",
    "multiply_nums(\"1, 2, 3, 4\") ➞ 24\n",
    "\n",
    "multiply_nums(\"54, 75, 453, 0\") ➞ 0\n",
    "\n",
    "multiply_nums(\"10, -2\") ➞ -20\n",
    "```"
   ]
  },
  {
   "cell_type": "code",
   "execution_count": 2,
   "id": "359e8d5e",
   "metadata": {},
   "outputs": [
    {
     "name": "stdout",
     "output_type": "stream",
     "text": [
      "6\n",
      "24\n",
      "0\n",
      "-20\n"
     ]
    }
   ],
   "source": [
    "def multiply_nums(nums):\n",
    "    num_list = [int(x) for x in nums.split(\", \")]\n",
    "    prod = 1\n",
    "    for num in num_list:\n",
    "        prod *= num\n",
    "    return prod\n",
    "\n",
    "print(multiply_nums(\"2, 3\"))   # Output: 6\n",
    "print(multiply_nums(\"1, 2, 3, 4\"))   # Output: 24\n",
    "print(multiply_nums(\"54, 75, 453, 0\"))   # Output: 0\n",
    "print(multiply_nums(\"10, -2\"))   # Output: -20"
   ]
  },
  {
   "cell_type": "markdown",
   "id": "c82c0a64",
   "metadata": {},
   "source": [
    "## Question 3\n",
    "\n",
    "Create a function that squares every digit of a number.\n",
    "\n",
    "Examples\n",
    "```\n",
    "square_digits(9119) ➞ 811181\n",
    "\n",
    "square_digits(2483) ➞ 416649\n",
    "\n",
    "square_digits(3212) ➞ 9414\n",
    "```\n",
    "Notes\n",
    "\n",
    "- The function receives an integer and must return an integer.\n"
   ]
  },
  {
   "cell_type": "code",
   "execution_count": 3,
   "id": "5c1e80a4",
   "metadata": {},
   "outputs": [
    {
     "name": "stdout",
     "output_type": "stream",
     "text": [
      "811181\n",
      "416649\n",
      "9414\n"
     ]
    }
   ],
   "source": [
    "def square_digits(num):\n",
    "    # Convert number to string\n",
    "    num_str = str(num)\n",
    "    # Extract each digit, square it, and join them back together\n",
    "    result_str = ''.join(str(int(digit)**2) for digit in num_str)\n",
    "    # Convert result back to integer and return\n",
    "    return int(result_str)\n",
    "\n",
    "print(square_digits(9119))  # Output: 811181\n",
    "print(square_digits(2483))  # Output: 416649\n",
    "print(square_digits(3212))  # Output: 9414\n"
   ]
  },
  {
   "cell_type": "markdown",
   "id": "d06f1087",
   "metadata": {},
   "source": [
    "## Question 4\n",
    "\n",
    "Create a function that sorts a list and removes all duplicate items from it.\n",
    "\n",
    "Examples\n",
    "```\n",
    "setify([1, 3, 3, 5, 5]) ➞ [1, 3, 5]\n",
    "\n",
    "setify([4, 4, 4, 4]) ➞ [4]\n",
    "\n",
    "setify([5, 7, 8, 9, 10, 15]) ➞ [5, 7, 8, 9, 10, 15]\n",
    "\n",
    "setify([3, 3, 3, 2, 1]) ➞ [1, 2, 3]\n",
    "```"
   ]
  },
  {
   "cell_type": "code",
   "execution_count": 4,
   "id": "eda0fb98",
   "metadata": {},
   "outputs": [
    {
     "name": "stdout",
     "output_type": "stream",
     "text": [
      "[1, 3, 5]\n",
      "[4]\n",
      "[5, 7, 8, 9, 10, 15]\n",
      "[1, 2, 3]\n"
     ]
    }
   ],
   "source": [
    "def setify(lst):\n",
    "  return list(set(lst))\n",
    "\n",
    "print(setify([1, 3, 3, 5, 5])) # [1, 3, 5]\n",
    "print(setify([4, 4, 4, 4])) # [4]\n",
    "print(setify([5, 7, 8, 9, 10, 15])) # [5, 7, 8, 9, 10, 15]\n",
    "print(setify([3, 3, 3, 2, 1])) # [1, 2, 3]"
   ]
  },
  {
   "cell_type": "markdown",
   "id": "2931bbe2",
   "metadata": {},
   "source": [
    "## Question 5\n",
    "\n",
    "Create a function that returns the mean of all digits.\n",
    "\n",
    "Examples\n",
    "```\n",
    "mean(42) ➞ 3\n",
    "\n",
    "mean(12345) ➞ 3\n",
    "\n",
    "mean(666) ➞ 6\n",
    "```\n",
    "Notes\n",
    "-\tThe mean of all digits is the sum of digits / how many digits there are (e.g. mean of digits in 512 is (5+1+2)/3(number of digits) = 8/3=2).\n",
    "-\tThe mean will always be an integer.\n"
   ]
  },
  {
   "cell_type": "code",
   "execution_count": 5,
   "id": "0ed21a89",
   "metadata": {},
   "outputs": [
    {
     "name": "stdout",
     "output_type": "stream",
     "text": [
      "3\n",
      "3\n",
      "6\n"
     ]
    }
   ],
   "source": [
    "def mean(num):\n",
    "    digits = [int(d) for d in str(num)]\n",
    "    return sum(digits) // len(digits)\n",
    "    \n",
    "print(mean(42))   # Output: 3\n",
    "print(mean(12345)) # Output: 3\n",
    "print(mean(666))  # Output: 6\n"
   ]
  },
  {
   "cell_type": "code",
   "execution_count": null,
   "id": "816579b8",
   "metadata": {},
   "outputs": [],
   "source": []
  }
 ],
 "metadata": {
  "kernelspec": {
   "display_name": "Python 3 (ipykernel)",
   "language": "python",
   "name": "python3"
  },
  "language_info": {
   "codemirror_mode": {
    "name": "ipython",
    "version": 3
   },
   "file_extension": ".py",
   "mimetype": "text/x-python",
   "name": "python",
   "nbconvert_exporter": "python",
   "pygments_lexer": "ipython3",
   "version": "3.10.9"
  }
 },
 "nbformat": 4,
 "nbformat_minor": 5
}
