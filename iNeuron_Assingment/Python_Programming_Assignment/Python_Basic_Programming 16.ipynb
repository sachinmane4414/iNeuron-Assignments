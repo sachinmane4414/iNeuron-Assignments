{
 "cells": [
  {
   "cell_type": "markdown",
   "id": "42d3a1ab",
   "metadata": {},
   "source": [
    "## Question1. \n",
    "Write a function that stutters a word as if someone is struggling to read it. The first two letters are repeated twice with an ellipsis ... and space after each, and then the word is pronounced with a question mark ?.\n",
    "Examples\n",
    "stutter(\"incredible\") ➞ \"in... in... incredible?\"\n",
    "\n",
    "stutter(\"enthusiastic\") ➞ \"en... en... enthusiastic?\"\n",
    "\n",
    "stutter(\"outstanding\") ➞ \"ou... ou... outstanding?\"\n",
    "\n",
    "Hint :- Assume all input is in lower case and at least two characters long.\n",
    "\n"
   ]
  },
  {
   "cell_type": "code",
   "execution_count": 1,
   "id": "34eb171f",
   "metadata": {},
   "outputs": [
    {
     "name": "stdout",
     "output_type": "stream",
     "text": [
      "incredible --> in... in... incredible?\n",
      "enthusiastic --> en... en... enthusiastic?\n",
      "outstanding --> ou... ou... outstanding?\n"
     ]
    }
   ],
   "source": [
    "def stutter(word):\n",
    "    stuttered_word = word[:2] + \"... \" + word[:2] + \"... \" + word + \"?\"\n",
    "    return stuttered_word\n",
    "\n",
    "print(f\"incredible --> {stutter('incredible')}\") # Output: \"in... in... incredible?\"\n",
    "print(f\"enthusiastic --> {stutter('enthusiastic')}\") # Output: \"en... en... enthusiastic?\"\n",
    "print(f\"outstanding --> {stutter('outstanding')}\") # Output: \"ou... ou... outstanding?\""
   ]
  },
  {
   "cell_type": "markdown",
   "id": "7258c71d",
   "metadata": {},
   "source": [
    "## Question 2\n",
    "Create a function that takes an angle in radians and returns the corresponding angle in degrees rounded to one decimal place.\n",
    "Examples\n",
    "radians_to_degrees(1) ➞ 57.3\n",
    "\n",
    "radians_to_degrees(20) ➞ 1145.9\n",
    "\n",
    "radians_to_degrees(50) ➞ 2864.8\n"
   ]
  },
  {
   "cell_type": "code",
   "execution_count": 2,
   "id": "6053e778",
   "metadata": {},
   "outputs": [
    {
     "data": {
      "text/plain": [
       "2864.8"
      ]
     },
     "execution_count": 2,
     "metadata": {},
     "output_type": "execute_result"
    }
   ],
   "source": [
    "import math\n",
    "\n",
    "def radians_to_degrees(rad):\n",
    "    deg = rad * 180 / math.pi\n",
    "    return round(deg, 1)\n",
    "\n",
    "radians_to_degrees(50)"
   ]
  },
  {
   "cell_type": "markdown",
   "id": "ba78d8be",
   "metadata": {},
   "source": [
    "## Question 3. \n",
    "In this challenge, establish if a given integer num is a Curzon number. If 1 plus 2 elevated to num is exactly divisible by 1 plus 2 multiplied by num, then num is a Curzon number.\n",
    "Given a non-negative integer num, implement a function that returns True if num is a Curzon number, or False otherwise.\n",
    "\n",
    "### Examples\n",
    "\n",
    "```\n",
    "is_curzon(5) ➞ True\n",
    "# 2 ** 5 + 1 = 33\n",
    "# 2 * 5 + 1 = 11\n",
    "# 33 is a multiple of 11\n",
    "\n",
    "is_curzon(10) ➞ False\n",
    "# 2 ** 10 + 1 = 1025\n",
    "# 2 * 10 + 1 = 21\n",
    "# 1025 is not a multiple of 21\n",
    "\n",
    "is_curzon(14) ➞ True\n",
    "# 2 ** 14 + 1 = 16385\n",
    "# 2 * 14 + 1 = 29\n",
    "# 16385 is a multiple of 29\n",
    "\n",
    "```\n",
    "\n"
   ]
  },
  {
   "cell_type": "code",
   "execution_count": 3,
   "id": "7bcef73d",
   "metadata": {},
   "outputs": [
    {
     "data": {
      "text/plain": [
       "True"
      ]
     },
     "execution_count": 3,
     "metadata": {},
     "output_type": "execute_result"
    }
   ],
   "source": [
    "def is_curzon(num):\n",
    "    numerator = 2**num + 1\n",
    "    denominator = 2*num + 1\n",
    "    return numerator % denominator == 0\n",
    "\n",
    "is_curzon(5) # Output: True\n",
    "is_curzon(10) # Output: False\n",
    "is_curzon(14) # Output: True"
   ]
  },
  {
   "cell_type": "markdown",
   "id": "e2e256cd",
   "metadata": {},
   "source": [
    "## Question 4.\n",
    "Given the side length x find the area of a hexagon.\n",
    "\n",
    "Examples\n",
    "```\n",
    "area_of_hexagon(1) ➞ 2.6\n",
    "\n",
    "area_of_hexagon(2) ➞ 10.4\n",
    "\n",
    "area_of_hexagon(3) ➞ 23.4\n",
    "```"
   ]
  },
  {
   "cell_type": "code",
   "execution_count": 4,
   "id": "35a76108",
   "metadata": {},
   "outputs": [
    {
     "name": "stdout",
     "output_type": "stream",
     "text": [
      "23.4\n"
     ]
    }
   ],
   "source": [
    "import math\n",
    "\n",
    "def area_of_hexagon(x):\n",
    "    return round((3*math.sqrt(3) / 2) * x**2, 1)\n",
    "\n",
    "print(area_of_hexagon(3))"
   ]
  },
  {
   "cell_type": "markdown",
   "id": "d4a8265b",
   "metadata": {},
   "source": [
    "## Question 5. \n",
    "Create a function that returns a base-2 (binary) representation of a base-10 (decimal) string number. To convert is simple: \n",
    "```\n",
    "((2) means base-2 and (10) means base-10) 010101001(2) = 1 + 8 + 32 + 128.\n",
    "```\n",
    "Going from right to left, the value of the most right bit is 1, now from that every bit to the left will be x2 the value, value of an 8 bit binary numbers are (256, 128, 64, 32, 16, 8, 4, 2, 1).\n",
    "Examples\n",
    "```\n",
    "binary(1) ➞ \"1\"\n",
    "# 1*1 = 1\n",
    "\n",
    "binary(5) ➞ \"101\"\n",
    "# 1*1 + 1*4 = 5\n",
    "\n",
    "binary(10) ➞ \"1010\"\n",
    "# 1*2 + 1*8 = 10\n",
    "```"
   ]
  },
  {
   "cell_type": "code",
   "execution_count": 5,
   "id": "fdbcda47",
   "metadata": {},
   "outputs": [
    {
     "name": "stdout",
     "output_type": "stream",
     "text": [
      "1010\n"
     ]
    }
   ],
   "source": [
    "def binary(decimal):\n",
    "    binary_str = ''\n",
    "    while decimal > 0:\n",
    "        remainder = decimal % 2\n",
    "        binary_str = str(remainder) + binary_str\n",
    "        decimal //= 2\n",
    "    return binary_str if binary_str else '0'\n",
    "\n",
    "print(binary(10))"
   ]
  },
  {
   "cell_type": "code",
   "execution_count": null,
   "id": "67e7cbb8",
   "metadata": {},
   "outputs": [],
   "source": []
  }
 ],
 "metadata": {
  "kernelspec": {
   "display_name": "Python 3 (ipykernel)",
   "language": "python",
   "name": "python3"
  },
  "language_info": {
   "codemirror_mode": {
    "name": "ipython",
    "version": 3
   },
   "file_extension": ".py",
   "mimetype": "text/x-python",
   "name": "python",
   "nbconvert_exporter": "python",
   "pygments_lexer": "ipython3",
   "version": "3.10.9"
  }
 },
 "nbformat": 4,
 "nbformat_minor": 5
}
