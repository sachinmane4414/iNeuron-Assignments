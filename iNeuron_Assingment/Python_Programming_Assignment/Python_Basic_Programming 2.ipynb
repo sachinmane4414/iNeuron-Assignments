{
 "cells": [
  {
   "cell_type": "code",
   "execution_count": 1,
   "id": "0d123a98",
   "metadata": {},
   "outputs": [
    {
     "name": "stdout",
     "output_type": "stream",
     "text": [
      "Enter the distance in Km: 23\n",
      "23.0 Km is 14.29 miles\n"
     ]
    }
   ],
   "source": [
    "# 1.\tWrite a Python program to convert kilometers to miles?\n",
    "\n",
    "\n",
    "# Taking the input from user\n",
    "km = float(input(\"Enter the distance in Km: \"))\n",
    "\n",
    "# converting Km to mi\n",
    "# formula to convert kilometers to miles\n",
    "# miles  = kilometer * 0.621371\n",
    "mi = km * 0.621371\n",
    "\n",
    "print(f\"{km} Km is {round(mi,2)} miles\")\n"
   ]
  },
  {
   "cell_type": "code",
   "execution_count": 2,
   "id": "ab292ab4",
   "metadata": {},
   "outputs": [
    {
     "name": "stdout",
     "output_type": "stream",
     "text": [
      "Enter the temperature in celsius: 27.8\n",
      "27.8 celsius is 82.04 Fahrenheit\n"
     ]
    }
   ],
   "source": [
    "# 2.\tWrite a Python program to convert Celsius to Fahrenheit?\n",
    "\n",
    "# Taking the input from user\n",
    "cel = float(input(\"Enter the temperature in celsius: \"))\n",
    "\n",
    "# converting Celsius to Fahrenheit\n",
    "fah = (cel * 1.8) + 32\n",
    "\n",
    "print(f\"{cel} celsius is {round(fah,2)} Fahrenheit\")"
   ]
  },
  {
   "cell_type": "code",
   "execution_count": 3,
   "id": "d0efa228",
   "metadata": {},
   "outputs": [
    {
     "name": "stdout",
     "output_type": "stream",
     "text": [
      "                                  2023\n",
      "\n",
      "      January                   February                   March\n",
      "Mo Tu We Th Fr Sa Su      Mo Tu We Th Fr Sa Su      Mo Tu We Th Fr Sa Su\n",
      "                   1             1  2  3  4  5             1  2  3  4  5\n",
      " 2  3  4  5  6  7  8       6  7  8  9 10 11 12       6  7  8  9 10 11 12\n",
      " 9 10 11 12 13 14 15      13 14 15 16 17 18 19      13 14 15 16 17 18 19\n",
      "16 17 18 19 20 21 22      20 21 22 23 24 25 26      20 21 22 23 24 25 26\n",
      "23 24 25 26 27 28 29      27 28                     27 28 29 30 31\n",
      "30 31\n",
      "\n",
      "       April                      May                       June\n",
      "Mo Tu We Th Fr Sa Su      Mo Tu We Th Fr Sa Su      Mo Tu We Th Fr Sa Su\n",
      "                1  2       1  2  3  4  5  6  7                1  2  3  4\n",
      " 3  4  5  6  7  8  9       8  9 10 11 12 13 14       5  6  7  8  9 10 11\n",
      "10 11 12 13 14 15 16      15 16 17 18 19 20 21      12 13 14 15 16 17 18\n",
      "17 18 19 20 21 22 23      22 23 24 25 26 27 28      19 20 21 22 23 24 25\n",
      "24 25 26 27 28 29 30      29 30 31                  26 27 28 29 30\n",
      "\n",
      "        July                     August                  September\n",
      "Mo Tu We Th Fr Sa Su      Mo Tu We Th Fr Sa Su      Mo Tu We Th Fr Sa Su\n",
      "                1  2          1  2  3  4  5  6                   1  2  3\n",
      " 3  4  5  6  7  8  9       7  8  9 10 11 12 13       4  5  6  7  8  9 10\n",
      "10 11 12 13 14 15 16      14 15 16 17 18 19 20      11 12 13 14 15 16 17\n",
      "17 18 19 20 21 22 23      21 22 23 24 25 26 27      18 19 20 21 22 23 24\n",
      "24 25 26 27 28 29 30      28 29 30 31               25 26 27 28 29 30\n",
      "31\n",
      "\n",
      "      October                   November                  December\n",
      "Mo Tu We Th Fr Sa Su      Mo Tu We Th Fr Sa Su      Mo Tu We Th Fr Sa Su\n",
      "                   1             1  2  3  4  5                   1  2  3\n",
      " 2  3  4  5  6  7  8       6  7  8  9 10 11 12       4  5  6  7  8  9 10\n",
      " 9 10 11 12 13 14 15      13 14 15 16 17 18 19      11 12 13 14 15 16 17\n",
      "16 17 18 19 20 21 22      20 21 22 23 24 25 26      18 19 20 21 22 23 24\n",
      "23 24 25 26 27 28 29      27 28 29 30               25 26 27 28 29 30 31\n",
      "30 31\n",
      "\n"
     ]
    }
   ],
   "source": [
    "# 3.\tWrite a Python program to display calendar?\n",
    "import calendar\n",
    "\n",
    "year =2023\n",
    "\n",
    "# display the calender\n",
    "print(calendar.calendar(year))\n"
   ]
  },
  {
   "cell_type": "code",
   "execution_count": 4,
   "id": "45dbedfe",
   "metadata": {},
   "outputs": [
    {
     "name": "stdout",
     "output_type": "stream",
     "text": [
      "(-1.0, -3.0)\n"
     ]
    }
   ],
   "source": [
    "# 4.\tWrite a Python program to solve quadratic equation?\n",
    "# ax^2 + bx + c = 0\n",
    "\n",
    "import math\n",
    "\n",
    "def solve_quadratic(a, b, c):\n",
    "    # calculate the discriminant\n",
    "    discriminant = b**2 - 4*a*c\n",
    "\n",
    "    # calculate the roots of the quadratic equation\n",
    "    if discriminant > 0:\n",
    "        # real roots\n",
    "        root1 = (-b + math.sqrt(discriminant)) / (2*a)\n",
    "        root2 = (-b - math.sqrt(discriminant)) / (2*a)\n",
    "        return (root1, root2)\n",
    "    elif discriminant == 0:\n",
    "        # Real root\n",
    "        root = -b / (2*a)\n",
    "        return (root,)\n",
    "    else:\n",
    "        # Complex roots\n",
    "        real = -b / (2*a)\n",
    "        imag = math.sqrt(-discriminant) / (2*a)\n",
    "        return (real + imag*1j, real - imag*1j)\n",
    "\n",
    "\n",
    "print(solve_quadratic(1, 4, 3))"
   ]
  },
  {
   "cell_type": "code",
   "execution_count": 5,
   "id": "8c7751bf",
   "metadata": {},
   "outputs": [
    {
     "name": "stdout",
     "output_type": "stream",
     "text": [
      "Enter the value for first variable: 25\n",
      "Enter the value for second variable: 76\n",
      "Befor swap  \n",
      "        value of a: 25\n",
      "        value of b: 76\n",
      "\n",
      "**************************************************\n",
      "After swap \n",
      "        value of a: 76\n",
      "        value of b: 25\n"
     ]
    }
   ],
   "source": [
    "# 5.\tWrite a Python program to swap two variables without temp variable?\n",
    "\n",
    "# Taking input from user\n",
    "a = input(\"Enter the value for first variable: \")\n",
    "b = input(\"Enter the value for second variable: \")\n",
    "\n",
    "print(f\"\"\"Befor swap  \n",
    "        value of a: {a}\n",
    "        value of b: {b}\\n\"\"\")\n",
    "\n",
    "# swapping the two variables\n",
    "\n",
    "a, b = b, a\n",
    "\n",
    "print(\"*\"*50)\n",
    "\n",
    "print(f\"\"\"After swap \n",
    "        value of a: {a}\n",
    "        value of b: {b}\"\"\")\n"
   ]
  },
  {
   "cell_type": "code",
   "execution_count": null,
   "id": "9e8d2771",
   "metadata": {},
   "outputs": [],
   "source": []
  }
 ],
 "metadata": {
  "kernelspec": {
   "display_name": "Python 3 (ipykernel)",
   "language": "python",
   "name": "python3"
  },
  "language_info": {
   "codemirror_mode": {
    "name": "ipython",
    "version": 3
   },
   "file_extension": ".py",
   "mimetype": "text/x-python",
   "name": "python",
   "nbconvert_exporter": "python",
   "pygments_lexer": "ipython3",
   "version": "3.10.9"
  }
 },
 "nbformat": 4,
 "nbformat_minor": 5
}
