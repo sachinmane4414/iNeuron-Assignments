{
 "cells": [
  {
   "cell_type": "code",
   "execution_count": 1,
   "id": "3c701406",
   "metadata": {},
   "outputs": [
    {
     "name": "stdout",
     "output_type": "stream",
     "text": [
      "Enter first number: 54\n",
      "Enter second number: 78\n",
      "The LCM of 54 and 78 is 702\n"
     ]
    }
   ],
   "source": [
    "# 1.\tWrite a Python Program to Find LCM?\n",
    "def find_lcm(x, y):\n",
    "  # choose the greater number\n",
    "  if x > y:\n",
    "    greater = x\n",
    "  else:\n",
    "    greater = y\n",
    "  \n",
    "  while(True):\n",
    "    if((greater % x == 0) and (greater % y == 0)):\n",
    "      lcm = greater\n",
    "      break\n",
    "    greater += 1\n",
    "  return lcm\n",
    "\n",
    "num1 = int(input(\"Enter first number: \"))\n",
    "num2 = int(input(\"Enter second number: \"))\n",
    "print(\"The LCM of\", num1,\"and\", num2,\"is\", find_lcm(num1, num2))\n"
   ]
  },
  {
   "cell_type": "code",
   "execution_count": 2,
   "id": "21ca55d7",
   "metadata": {},
   "outputs": [
    {
     "name": "stdout",
     "output_type": "stream",
     "text": [
      "Enter first number: 434\n",
      "Enter second number: 656\n",
      "The GCD of 434 and 656 is 2\n"
     ]
    }
   ],
   "source": [
    "# 2.\tWrite a Python Program to Find HCF?\n",
    "def find_hcf(x, y):\n",
    "    # This function implements the Euclidian algorithm to find H.C.F. of two numbers\n",
    "    while(y):\n",
    "        x, y = y, x % y\n",
    "    return x\n",
    "\n",
    "num1 = int(input(\"Enter first number: \"))\n",
    "num2 = int(input(\"Enter second number: \"))\n",
    "print(\"The GCD of\", num1,\"and\", num2,\"is\", find_hcf(num1, num2))"
   ]
  },
  {
   "cell_type": "code",
   "execution_count": 4,
   "id": "b275b012",
   "metadata": {},
   "outputs": [
    {
     "name": "stdout",
     "output_type": "stream",
     "text": [
      "Enter a decimal number: 98\n",
      "The binary representation of 98 is 1100010\n",
      "The octal representation of 98 is 142\n",
      "The hexadecimal representation of 98 is 62\n"
     ]
    }
   ],
   "source": [
    "# 3.\tWrite a Python Program to Convert Decimal to Binary, Octal and Hexadecimal?\n",
    "dec = int(input(\"Enter a decimal number: \"))\n",
    "\n",
    "print(\"The binary representation of {0} is {0:b}\".format(dec))\n",
    "\n",
    "print(\"The octal representation of {0} is {0:o}\".format(dec))\n",
    "\n",
    "print(\"The hexadecimal representation of {0} is {0:x}\".format(dec))\n"
   ]
  },
  {
   "cell_type": "code",
   "execution_count": 9,
   "id": "57f34a40",
   "metadata": {},
   "outputs": [
    {
     "name": "stdout",
     "output_type": "stream",
     "text": [
      "Enter a character: u\n",
      "The ASCII value of 'u' is 117\n"
     ]
    }
   ],
   "source": [
    "# 4.\tWrite a Python Program To Find ASCII value of a character?\n",
    "char = input(\"Enter a character: \")\n",
    "\n",
    "print(\"The ASCII value of\", \"'\" + char + \"'\", \"is\", ord(char))\n"
   ]
  },
  {
   "cell_type": "code",
   "execution_count": 12,
   "id": "4601b194",
   "metadata": {},
   "outputs": [
    {
     "name": "stdout",
     "output_type": "stream",
     "text": [
      "\n",
      "Please type in the math operation you would like to complete:\n",
      "+ for addition\n",
      "- for subtraction\n",
      "* for multiplication\n",
      "/ for division\n",
      "40.0\n",
      "Enter the first number: 15.0\n",
      "Enter the second number: 25.0\n",
      "You have not typed a valid operator, please run the program again.\n"
     ]
    }
   ],
   "source": [
    "# 5.\tWrite a Python Program to Make a Simple Calculator with 4 basic mathematical operations?\n",
    "def calculator():\n",
    "    operation = input('''\n",
    "Please type in the math operation you would like to complete:\n",
    "+ for addition\n",
    "- for subtraction\n",
    "* for multiplication\n",
    "/ for division\n",
    "''')\n",
    "\n",
    "    num1 = float(input(\"Enter the first number: \"))\n",
    "    num2 = float(input(\"Enter the second number: \"))\n",
    "\n",
    "    if operation == '+':\n",
    "        print('{} + {} = '.format(num1, num2), num1 + num2)\n",
    "\n",
    "    elif operation == '-':\n",
    "        print('{} - {} = '.format(num1, num2), num1 - num2)\n",
    "\n",
    "    elif operation == '*':\n",
    "        print('{} * {} = '.format(num1, num2), num1 * num2)\n",
    "\n",
    "    elif operation == '/':\n",
    "        print('{} / {} = '.format(num1, num2), num1 / num2)\n",
    "\n",
    "    else:\n",
    "        print(\"You have not typed a valid operator, please run the program again.\")\n",
    "\n",
    "calculator()"
   ]
  },
  {
   "cell_type": "code",
   "execution_count": null,
   "id": "f15035c2",
   "metadata": {},
   "outputs": [],
   "source": []
  }
 ],
 "metadata": {
  "kernelspec": {
   "display_name": "Python 3 (ipykernel)",
   "language": "python",
   "name": "python3"
  },
  "language_info": {
   "codemirror_mode": {
    "name": "ipython",
    "version": 3
   },
   "file_extension": ".py",
   "mimetype": "text/x-python",
   "name": "python",
   "nbconvert_exporter": "python",
   "pygments_lexer": "ipython3",
   "version": "3.10.9"
  }
 },
 "nbformat": 4,
 "nbformat_minor": 5
}
