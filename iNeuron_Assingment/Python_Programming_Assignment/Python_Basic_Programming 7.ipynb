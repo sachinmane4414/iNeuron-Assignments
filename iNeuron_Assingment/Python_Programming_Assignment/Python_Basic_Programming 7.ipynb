{
 "cells": [
  {
   "cell_type": "code",
   "execution_count": 1,
   "id": "6a28fb06",
   "metadata": {},
   "outputs": [
    {
     "name": "stdout",
     "output_type": "stream",
     "text": [
      "Sum of the array:  28\n"
     ]
    }
   ],
   "source": [
    "# 1.\tWrite a Python Program to find sum of array?\n",
    "import numpy as np\n",
    "\n",
    "numbers = np.array([1, 2, 3, 4, 5, 6, 7])\n",
    "print(\"Sum of the array: \",np.sum(numbers))\n"
   ]
  },
  {
   "cell_type": "code",
   "execution_count": 3,
   "id": "5f129658",
   "metadata": {},
   "outputs": [
    {
     "name": "stdout",
     "output_type": "stream",
     "text": [
      "Largest element in the array:  65\n"
     ]
    }
   ],
   "source": [
    "# 2.\tWrite a Python Program to find largest element in an array?\n",
    "import numpy as np\n",
    "\n",
    "numbers = np.array([1, 5, 2, 8, 3, 10,12,65,9])\n",
    "print(\"Largest element in the array: \",np.amax(numbers))\n",
    "\n"
   ]
  },
  {
   "cell_type": "code",
   "execution_count": 5,
   "id": "66ebc9a2",
   "metadata": {},
   "outputs": [
    {
     "name": "stdout",
     "output_type": "stream",
     "text": [
      "Enter number of positions to rotate: 4\n",
      "Original array:  [1, 2, 3, 4, 5, 6, 7, 8]\n",
      "Array after rotation:  [5, 6, 7, 8, 1, 2, 3, 4]\n"
     ]
    }
   ],
   "source": [
    "# 3.\tWrite a Python Program for array rotation?\n",
    "def rotate_array(arr, k):\n",
    "    k = k % len(arr)\n",
    "    return arr[-k:] + arr[:-k]\n",
    "\n",
    "numbers = [1, 2, 3, 4, 5, 6, 7, 8]\n",
    "k = int(input(\"Enter number of positions to rotate: \"))\n",
    "print(\"Original array: \",numbers)\n",
    "print(\"Array after rotation: \", rotate_array(numbers, k))\n"
   ]
  },
  {
   "cell_type": "code",
   "execution_count": 6,
   "id": "b5b97851",
   "metadata": {},
   "outputs": [
    {
     "name": "stdout",
     "output_type": "stream",
     "text": [
      "Enter the number of elements to split: 23\n",
      "Original array:  [1, 2, 3, 4, 5, 6]\n",
      "Array after splitting and adding first part to the end:  [1, 2, 3, 4, 5, 6]\n"
     ]
    }
   ],
   "source": [
    "# 4.\tWrite a Python Program to Split the array and add the first part to the end?\n",
    "def split_array(arr, k):\n",
    "    return arr[k:] + arr[:k]\n",
    "\n",
    "numbers = [1, 2, 3, 4, 5, 6]\n",
    "k = int(input(\"Enter the number of elements to split: \"))\n",
    "print(\"Original array: \", numbers)\n",
    "print(\"Array after splitting and adding first part to the end: \", split_array(numbers, k))\n"
   ]
  },
  {
   "cell_type": "code",
   "execution_count": 7,
   "id": "808d5e7c",
   "metadata": {},
   "outputs": [
    {
     "name": "stdout",
     "output_type": "stream",
     "text": [
      "Original array:  [1, 2, 3, 4, 5, 6]\n",
      "Is array monotonic:  True\n"
     ]
    }
   ],
   "source": [
    "def is_monotonic(arr):\n",
    "    if len(arr) <= 1:\n",
    "        return True\n",
    "\n",
    "    direction = arr[1] - arr[0]\n",
    "    for i in range(2, len(arr)):\n",
    "        if direction == 0:\n",
    "            direction = arr[i] - arr[i - 1]\n",
    "            continue\n",
    "        if (direction > 0) != (arr[i] - arr[i - 1] > 0):\n",
    "            return False\n",
    "    return True\n",
    "\n",
    "numbers = [1, 2, 3, 4, 5, 6]\n",
    "print(\"Original array: \", numbers)\n",
    "print(\"Is array monotonic: \", is_monotonic(numbers))"
   ]
  },
  {
   "cell_type": "code",
   "execution_count": null,
   "id": "bd3dfdcf",
   "metadata": {},
   "outputs": [],
   "source": []
  }
 ],
 "metadata": {
  "kernelspec": {
   "display_name": "Python 3 (ipykernel)",
   "language": "python",
   "name": "python3"
  },
  "language_info": {
   "codemirror_mode": {
    "name": "ipython",
    "version": 3
   },
   "file_extension": ".py",
   "mimetype": "text/x-python",
   "name": "python",
   "nbconvert_exporter": "python",
   "pygments_lexer": "ipython3",
   "version": "3.10.9"
  }
 },
 "nbformat": 4,
 "nbformat_minor": 5
}
