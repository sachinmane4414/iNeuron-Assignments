{
 "cells": [
  {
   "cell_type": "code",
   "execution_count": 1,
   "id": "d956670c",
   "metadata": {},
   "outputs": [
    {
     "name": "stdout",
     "output_type": "stream",
     "text": [
      "0\n",
      "7\n",
      "14\n",
      "21\n",
      "28\n",
      "35\n"
     ]
    }
   ],
   "source": [
    "# Question 1:\n",
    "\"\"\"Define a class with a generator which can iterate the numbers, which are divisible by 7, between a given range 0 and n.\"\"\"\n",
    "\n",
    "class DivisibleBySeven:\n",
    "    def __init__(self,n):\n",
    "        self.n = n\n",
    "\n",
    "    def iterate_divisible_by_seven(self):\n",
    "        for i in range(self.n+1):\n",
    "            if i % 7 == 0:\n",
    "                yield i \n",
    "\n",
    "# create an instance of the DivisibleBySeven class with n=35\n",
    "divisible_by_seven = DivisibleBySeven(35)\n",
    "\n",
    "# use the generator \n",
    "for num in divisible_by_seven.iterate_divisible_by_seven():\n",
    "    print(num)"
   ]
  },
  {
   "cell_type": "code",
   "execution_count": 2,
   "id": "82ed8ee9",
   "metadata": {},
   "outputs": [
    {
     "name": "stdout",
     "output_type": "stream",
     "text": [
      "Enter a text: Full Stack Data Science Bootcamp\n",
      "Bootcamp:1\n",
      "Data:1\n",
      "Full:1\n",
      "Science:1\n",
      "Stack:1\n"
     ]
    }
   ],
   "source": [
    "# Question 2:\n",
    "\"\"\" \n",
    "Write a program to compute the frequency of the words from the input. The output should output after sorting the key alphanumerically. \n",
    "\n",
    "Suppose the following input is supplied to the program:\n",
    "\n",
    "New to Python or choosing between Python 2 and Python 3? Read Python 2 or Python 3.\n",
    "\n",
    "Then, the output should be:\n",
    "\n",
    "2:2\n",
    "\n",
    "3.:1\n",
    "\n",
    "3?:1\n",
    "\n",
    "New:1\n",
    "\n",
    "Python:5\n",
    "\n",
    "Read:1\n",
    "\n",
    "and:1\n",
    "\n",
    "between:1\n",
    "\n",
    "choosing:1\n",
    "\n",
    "or:2\n",
    "\n",
    "to:1\n",
    "\n",
    "\"\"\"\n",
    "\n",
    "import collections\n",
    "import re\n",
    "\n",
    "# input text\n",
    "text = input(\"Enter a text: \")\n",
    "\n",
    "# split the text into words\n",
    "words = re.findall(r'\\b\\w+\\b', text)\n",
    "\n",
    "# create a dictionary to store the frequency of each word\n",
    "word_freq = collections.defaultdict(int)\n",
    "\n",
    "# compute the frequency of each word\n",
    "for word in words:\n",
    "    word_freq[word] += 1\n",
    "\n",
    "# sort the dictionary by key\n",
    "sorted_word_freq = dict(sorted(word_freq.items()))\n",
    "\n",
    "# print the frequency of each word\n",
    "for word, freq in sorted_word_freq.items():\n",
    "    print(word + \":\" + str(freq))\n"
   ]
  },
  {
   "cell_type": "code",
   "execution_count": 3,
   "id": "138a757a",
   "metadata": {},
   "outputs": [
    {
     "name": "stdout",
     "output_type": "stream",
     "text": [
      "Male\n",
      "Female\n"
     ]
    }
   ],
   "source": [
    "# Question 3:\n",
    "\n",
    "\"\"\"Define a class Person and its two child classes: Male and Female. All classes have a method \"getGender\" which can print \"Male\" for Male class and \"Female\" for Female class.\"\"\"\n",
    "class Person:\n",
    "    def getGender(self):\n",
    "        pass\n",
    "\n",
    "class Male(Person):\n",
    "    def getGender(self):\n",
    "        print(\"Male\")\n",
    "\n",
    "class Female(Person):\n",
    "    def getGender(self):\n",
    "        print(\"Female\")\n",
    "\n",
    "person = Person()\n",
    "male = Male()\n",
    "female = Female()\n",
    "\n",
    "person.getGender() # will not print anything \n",
    "male.getGender() # will print 'Male'\n",
    "female.getGender() # will print 'Female'\n"
   ]
  },
  {
   "cell_type": "code",
   "execution_count": 4,
   "id": "b3be09ea",
   "metadata": {},
   "outputs": [
    {
     "name": "stdout",
     "output_type": "stream",
     "text": [
      "I Play Hockey.\n",
      "I Play Football.\n",
      "I Love Hockey.\n",
      "I Love Football.\n",
      "You Play Hockey.\n",
      "You Play Football.\n",
      "You Love Hockey.\n",
      "You Love Football.\n"
     ]
    }
   ],
   "source": [
    "# Question 4:\n",
    "\"\"\"Please write a program to generate all sentences where subject is in [\"I\", \"You\"] and verb is in [\"Play\", \"Love\"] and the object is in [\"Hockey\",\"Football\"].\"\"\"\n",
    "subjects = [\"I\", \"You\"]\n",
    "verbs = [\"Play\", \"Love\"]\n",
    "objects = [\"Hockey\",\"Football\"]\n",
    "\n",
    "for subject in subjects:\n",
    "    for verb in verbs:\n",
    "        for obj in objects:\n",
    "            print(f'{subject} {verb} {obj}.')\n"
   ]
  },
  {
   "cell_type": "code",
   "execution_count": 5,
   "id": "6e6140a4",
   "metadata": {},
   "outputs": [
    {
     "name": "stdout",
     "output_type": "stream",
     "text": [
      "Original string: hello world!hello world!hello world!hello world!\n",
      "Compressed string: b'x\\x9c\\xcbH\\xcd\\xc9\\xc9W(\\xcf/\\xcaIQ\\xcc \\x82\\r\\x00\\xbd[\\x11\\xf5'\n",
      "Decompressed string: hello world!hello world!hello world!hello world!\n"
     ]
    }
   ],
   "source": [
    "# Question 5:\n",
    "\"\"\"Please write a program to compress and decompress the string \"hello world!hello world!hello world!hello world!\".\"\"\"\n",
    "\n",
    "import zlib\n",
    "\n",
    "# original string\n",
    "original_string = \"hello world!hello world!hello world!hello world!\"\n",
    "\n",
    "# compress the string\n",
    "compressed_string = zlib.compress(original_string.encode())\n",
    "\n",
    "# decompress the string\n",
    "decompressed_string = zlib.decompress(compressed_string).decode()\n",
    "\n",
    "# print the original, compressed and decompressed strings\n",
    "print(\"Original string:\", original_string)\n",
    "print(\"Compressed string:\", compressed_string)\n",
    "print(\"Decompressed string:\", decompressed_string)\n"
   ]
  },
  {
   "cell_type": "code",
   "execution_count": 6,
   "id": "53dfab84",
   "metadata": {},
   "outputs": [
    {
     "name": "stdout",
     "output_type": "stream",
     "text": [
      "10 is present at index 3.\n"
     ]
    }
   ],
   "source": [
    "# Question 6:\n",
    "\"\"\"Please write a binary search function which searches an item in a sorted list. The function should return the index of element to be searched in the list.\"\"\"\n",
    "\n",
    "def binary_search(arr, x):\n",
    "    low = 0\n",
    "    high = len(arr) - 1\n",
    "    mid = 0\n",
    "\n",
    "    while low <= high:\n",
    "        mid = (high + low) // 2\n",
    "        # If x is greater, ignore left half\n",
    "        if arr[mid] < x:\n",
    "            low = mid + 1\n",
    "        # If x is smaller, ignore right half\n",
    "        elif arr[mid] > x:\n",
    "            high = mid - 1\n",
    "        # x is present at mid\n",
    "        else:\n",
    "            return mid\n",
    "    # If we reach here, then the element was not present\n",
    "    return -1\n",
    "\n",
    "\n",
    "# test the function\n",
    "arr = [2, 3, 4, 10, 40]\n",
    "x = 10\n",
    "result = binary_search(arr, x)\n",
    "if result != -1:\n",
    "    print(f'{x} is present at index {str(result)}.')\n",
    "else:\n",
    "    print(f'{x} is not present in array.')"
   ]
  },
  {
   "cell_type": "code",
   "execution_count": null,
   "id": "dfb877a2",
   "metadata": {},
   "outputs": [],
   "source": []
  }
 ],
 "metadata": {
  "kernelspec": {
   "display_name": "Python 3 (ipykernel)",
   "language": "python",
   "name": "python3"
  },
  "language_info": {
   "codemirror_mode": {
    "name": "ipython",
    "version": 3
   },
   "file_extension": ".py",
   "mimetype": "text/x-python",
   "name": "python",
   "nbconvert_exporter": "python",
   "pygments_lexer": "ipython3",
   "version": "3.10.9"
  }
 },
 "nbformat": 4,
 "nbformat_minor": 5
}
