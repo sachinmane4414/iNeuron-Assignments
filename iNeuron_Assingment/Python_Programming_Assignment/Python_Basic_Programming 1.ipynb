{
 "cells": [
  {
   "cell_type": "markdown",
   "id": "9b37b8b5",
   "metadata": {},
   "source": [
    "#Q1"
   ]
  },
  {
   "cell_type": "code",
   "execution_count": 1,
   "id": "f57e7c61",
   "metadata": {},
   "outputs": [
    {
     "name": "stdout",
     "output_type": "stream",
     "text": [
      "Hello Python\n"
     ]
    }
   ],
   "source": [
    "# 1.\tWrite a Python program to print \"Hello Python\" ?\n",
    "print('Hello Python')\n"
   ]
  },
  {
   "cell_type": "code",
   "execution_count": 2,
   "id": "5a09ef71",
   "metadata": {},
   "outputs": [
    {
     "name": "stdout",
     "output_type": "stream",
     "text": [
      "Enter the first number: 123\n",
      "Enter the second number: 567\n",
      "The result of addition is:690.0\n",
      "The result of division is:0.21693121693121692\n"
     ]
    }
   ],
   "source": [
    "# 2.Write a Python program to do arithmetical operations addition and division.?\n",
    "\n",
    "# taking input from user\n",
    "a = float(input(\"Enter the first number: \"))\n",
    "b = float(input(\"Enter the second number: \"))\n",
    "\n",
    "# creating function to add the numbers\n",
    "def addition(a, b):\n",
    "    return a+b \n",
    "    \n",
    "# creating division function \n",
    "def division(a, b):\n",
    "    return a/b \n",
    "\n",
    "print(f\"The result of addition is:{addition(a, b)}\")\n",
    "print(f\"The result of division is:{division(a, b)}\")"
   ]
  },
  {
   "cell_type": "code",
   "execution_count": 3,
   "id": "08352c3a",
   "metadata": {},
   "outputs": [
    {
     "name": "stdout",
     "output_type": "stream",
     "text": [
      "Enter the length of base: 123\n",
      "Enter the height of base: 54\n",
      "The area of Triangle is:3321.0\n"
     ]
    }
   ],
   "source": [
    "# 3.\tWrite a Python program to find the area of a triangle ?\n",
    "\n",
    "# The formula to calculate the area of triangle:\n",
    "# area = (base * height)/2\n",
    "\n",
    "# taking input from user:\n",
    "base = float(input(\"Enter the length of base: \"))\n",
    "height = float(input(\"Enter the height of base: \"))\n",
    "\n",
    "# caluculating the area\n",
    "area = (base * height)/2\n",
    "\n",
    "# printing the value\n",
    "print(f\"The area of Triangle is:{area}\")\n"
   ]
  },
  {
   "cell_type": "code",
   "execution_count": 4,
   "id": "905c3dbf",
   "metadata": {},
   "outputs": [
    {
     "name": "stdout",
     "output_type": "stream",
     "text": [
      "Enter the value for first variable: 245\n",
      "Enter the value for second variable: 768\n",
      "Befor swap  \n",
      "        value of a: 245\n",
      "        value of b: 768\n",
      "\n",
      "**************************************************\n",
      "After swap \n",
      "        value of a: 768\n",
      "        value of b: 245\n"
     ]
    }
   ],
   "source": [
    "# 4.Write a Python program to swap two variables?\n",
    "\n",
    "# Taking input from user\n",
    "a = input(\"Enter the value for first variable: \")\n",
    "b = input(\"Enter the value for second variable: \")\n",
    "\n",
    "print(f\"\"\"Befor swap  \n",
    "        value of a: {a}\n",
    "        value of b: {b}\\n\"\"\")\n",
    "\n",
    "# swapping the two variables\n",
    "\n",
    "a, b = b, a\n",
    "\n",
    "print(\"*\"*50)\n",
    "\n",
    "print(f\"\"\"After swap \n",
    "        value of a: {a}\n",
    "        value of b: {b}\"\"\")\n"
   ]
  },
  {
   "cell_type": "code",
   "execution_count": 5,
   "id": "7e6d7543",
   "metadata": {},
   "outputs": [
    {
     "name": "stdout",
     "output_type": "stream",
     "text": [
      "Enter the lower bound value: 590\n",
      "Enter the upper bound value: 750\n",
      "673\n"
     ]
    }
   ],
   "source": [
    "# 5.\tWrite a Python program to generate a random number ?\n",
    "\n",
    "# importing random module\n",
    "import random\n",
    "\n",
    "# lower bound and upper bound entry\n",
    "a = int(input(\"Enter the lower bound value: \"))\n",
    "b = int(input(\"Enter the upper bound value: \"))\n",
    "\n",
    "# Generating random integer between upper bound and lower bound\n",
    "random_int = random.randint(a, b)\n",
    "\n",
    "print(random_int)"
   ]
  },
  {
   "cell_type": "code",
   "execution_count": null,
   "id": "8ea85c82",
   "metadata": {},
   "outputs": [],
   "source": []
  }
 ],
 "metadata": {
  "kernelspec": {
   "display_name": "Python 3 (ipykernel)",
   "language": "python",
   "name": "python3"
  },
  "language_info": {
   "codemirror_mode": {
    "name": "ipython",
    "version": 3
   },
   "file_extension": ".py",
   "mimetype": "text/x-python",
   "name": "python",
   "nbconvert_exporter": "python",
   "pygments_lexer": "ipython3",
   "version": "3.10.9"
  }
 },
 "nbformat": 4,
 "nbformat_minor": 5
}
