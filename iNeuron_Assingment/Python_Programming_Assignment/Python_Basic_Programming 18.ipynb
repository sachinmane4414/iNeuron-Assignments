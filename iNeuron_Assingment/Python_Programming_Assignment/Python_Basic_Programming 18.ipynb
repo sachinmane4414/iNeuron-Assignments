{
 "cells": [
  {
   "cell_type": "markdown",
   "id": "ade8b2e9",
   "metadata": {},
   "source": [
    "## Question 1\n",
    "Create a function that takes a list of non-negative integers and strings and return a new list without the strings.\n",
    "\n",
    "Examples\n",
    "```\n",
    "filter_list([1, 2, \"a\", \"b\"]) ➞ [1, 2]\n",
    "\n",
    "filter_list([1, \"a\", \"b\", 0, 15]) ➞ [1, 0, 15]\n",
    "\n",
    "filter_list([1, 2, \"aasf\", \"1\", \"123\", 123]) ➞ [1, 2, 123]\n",
    "```"
   ]
  },
  {
   "cell_type": "code",
   "execution_count": 1,
   "id": "d91b1162",
   "metadata": {},
   "outputs": [
    {
     "name": "stdout",
     "output_type": "stream",
     "text": [
      "[1, 2]\n",
      "[1, 0, 15]\n",
      "[1, 2, 123]\n"
     ]
    }
   ],
   "source": [
    "def filter_list(lst):\n",
    "    new_lst = []\n",
    "    for i in lst:\n",
    "        if isinstance(i, int):\n",
    "            new_lst.append(i)\n",
    "    return new_lst\n",
    "\n",
    "print(filter_list([1, 2, \"a\", \"b\"])) # Output: [1, 2]\n",
    "print(filter_list([1, \"a\", \"b\", 0, 15])) # Output: [1, 0, 15]\n",
    "print(filter_list([1, 2, \"aasf\", \"1\", \"123\", 123])) # Output: [1, 2, 123]"
   ]
  },
  {
   "cell_type": "markdown",
   "id": "6985dd01",
   "metadata": {},
   "source": [
    "## Question 2\n",
    "\n",
    "The \"Reverser\" takes a string as input and returns that string in reverse order, with the opposite case.\n",
    "\n",
    "Examples\n",
    "```\n",
    "reverse(\"Hello World\") ➞ \"DLROw OLLEh\"\n",
    "\n",
    "reverse(\"ReVeRsE\") ➞ \"eSrEvEr\"\n",
    "\n",
    "reverse(\"Radar\") ➞ \"RADAr\"\n",
    "```"
   ]
  },
  {
   "cell_type": "code",
   "execution_count": 2,
   "id": "e88988a6",
   "metadata": {},
   "outputs": [
    {
     "name": "stdout",
     "output_type": "stream",
     "text": [
      "reverse('Hello World') --> DLROw OLLEh\n",
      "reverse('ReVeRsE')--> eSrEvEr\n",
      "reverse('Radar')--> RADAr\n"
     ]
    }
   ],
   "source": [
    "def reverse(txt):\n",
    "    return txt[::-1].swapcase()\n",
    "\n",
    "print(\"reverse('Hello World') -->\",reverse(\"Hello World\"))\n",
    "print(\"reverse('ReVeRsE')-->\",reverse(\"ReVeRsE\"))\n",
    "print(\"reverse('Radar')-->\",reverse(\"Radar\"))"
   ]
  },
  {
   "cell_type": "markdown",
   "id": "3728d215",
   "metadata": {},
   "source": [
    "## Question 4\n",
    "\n",
    "Write a function that calculates the factorial of a number recursively.\n",
    "\n",
    "Examples\n",
    "```\n",
    "factorial(5) ➞ 120\n",
    "\n",
    "factorial(3) ➞ 6\n",
    "\n",
    "factorial(1) ➞ 1\n",
    "\n",
    "factorial(0) ➞ 1\n",
    "```"
   ]
  },
  {
   "cell_type": "code",
   "execution_count": 3,
   "id": "26622d21",
   "metadata": {},
   "outputs": [
    {
     "name": "stdout",
     "output_type": "stream",
     "text": [
      "120\n",
      "6\n",
      "1\n",
      "1\n"
     ]
    }
   ],
   "source": [
    "def factorial(n):\n",
    "    if n == 0:\n",
    "        return 1\n",
    "    else:\n",
    "        return n * factorial(n-1)\n",
    "\n",
    "print(factorial(5)) # Output: 120\n",
    "print(factorial(3)) # Output: 6\n",
    "print(factorial(1)) # Output: 1\n",
    "print(factorial(0)) # Output: 1"
   ]
  },
  {
   "cell_type": "markdown",
   "id": "c0203d21",
   "metadata": {},
   "source": [
    "## Question 5\n",
    "\n",
    "Write a function that moves all elements of one type to the end of the list.\n",
    "\n",
    "Examples\n",
    "```\n",
    "move_to_end([1, 3, 2, 4, 4, 1], 1) ➞ [3, 2, 4, 4, 1, 1]\n",
    "# Move all the 1s to the end of the array.\n",
    "\n",
    "move_to_end([7, 8, 9, 1, 2, 3, 4], 9) ➞ [7, 8, 1, 2, 3, 4, 9]\n",
    "\n",
    "move_to_end([\"a\", \"a\", \"a\", \"b\"], \"a\") ➞ [\"b\", \"a\", \"a\", \"a\"]\n",
    "```"
   ]
  },
  {
   "cell_type": "code",
   "execution_count": 4,
   "id": "172d3ee7",
   "metadata": {},
   "outputs": [
    {
     "name": "stdout",
     "output_type": "stream",
     "text": [
      "[3, 2, 4, 4, 1, 1]\n",
      "[7, 8, 1, 2, 3, 4, 9]\n",
      "['b', 'a', 'a', 'a']\n"
     ]
    }
   ],
   "source": [
    "def move_to_end(lst, el):\n",
    "  count_el = lst.count(el) # count how many times element is present in the list\n",
    "  lst = [x for x in lst if x != el] # Remove the element from the list\n",
    "  lst = lst + [el]*count_el # Add the element at the end of the list as many times as its count\n",
    "  return lst\n",
    "\n",
    "# example cases\n",
    "print(move_to_end([1, 3, 2, 4, 4, 1], 1)) # [3, 2, 4, 4, 1, 1]\n",
    "print(move_to_end([7, 8, 9, 1, 2, 3, 4], 9)) # [7, 8, 1, 2, 3, 4, 9]\n",
    "print(move_to_end([\"a\", \"a\", \"a\", \"b\"], \"a\")) # [\"b\", \"a\", \"a\", \"a\"]"
   ]
  },
  {
   "cell_type": "code",
   "execution_count": null,
   "id": "159052a4",
   "metadata": {},
   "outputs": [],
   "source": []
  }
 ],
 "metadata": {
  "kernelspec": {
   "display_name": "Python 3 (ipykernel)",
   "language": "python",
   "name": "python3"
  },
  "language_info": {
   "codemirror_mode": {
    "name": "ipython",
    "version": 3
   },
   "file_extension": ".py",
   "mimetype": "text/x-python",
   "name": "python",
   "nbconvert_exporter": "python",
   "pygments_lexer": "ipython3",
   "version": "3.10.9"
  }
 },
 "nbformat": 4,
 "nbformat_minor": 5
}
