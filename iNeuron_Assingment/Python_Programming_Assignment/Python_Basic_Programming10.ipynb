{
 "cells": [
  {
   "cell_type": "code",
   "execution_count": 3,
   "id": "6164aa2c",
   "metadata": {},
   "outputs": [
    {
     "name": "stdout",
     "output_type": "stream",
     "text": [
      "28\n"
     ]
    }
   ],
   "source": [
    "# 1.\tWrite a Python program to find sum of elements in list?\n",
    "def sum_list(ls):\n",
    "    total = 0\n",
    "    for x in ls:\n",
    "        total += x\n",
    "    return total\n",
    "\n",
    "my_list = [1, 2, 3, 4, 5, 6, 7]\n",
    "print(sum_list(my_list))\n"
   ]
  },
  {
   "cell_type": "code",
   "execution_count": 5,
   "id": "22cde4fa",
   "metadata": {},
   "outputs": [
    {
     "name": "stdout",
     "output_type": "stream",
     "text": [
      "120\n"
     ]
    }
   ],
   "source": [
    "# 2.\tWrite a Python program to  Multiply all numbers in the list?\n",
    "def multiply_list(lt):\n",
    "    total = 1\n",
    "    for x in lt:\n",
    "        total *= x\n",
    "    return total\n",
    "\n",
    "my_list = [1, 2, 3, 4, 5]\n",
    "print(multiply_list(my_list))"
   ]
  },
  {
   "cell_type": "code",
   "execution_count": 6,
   "id": "63614718",
   "metadata": {},
   "outputs": [
    {
     "name": "stdout",
     "output_type": "stream",
     "text": [
      "1\n"
     ]
    }
   ],
   "source": [
    "# 3.\tWrite a Python program to find smallest number in a list?\n",
    "my_list = [5, 6, 2, 8, 1, 3]\n",
    "print(min(my_list))"
   ]
  },
  {
   "cell_type": "code",
   "execution_count": 8,
   "id": "7589c685",
   "metadata": {},
   "outputs": [
    {
     "name": "stdout",
     "output_type": "stream",
     "text": [
      "9\n"
     ]
    }
   ],
   "source": [
    "# 4.\tWrite a Python program to find largest number in a list?\n",
    "my_list = [5, 6, 2, 8, 1, 3, 7, 9]\n",
    "print(max(my_list))"
   ]
  },
  {
   "cell_type": "code",
   "execution_count": 10,
   "id": "c85da8c4",
   "metadata": {},
   "outputs": [
    {
     "name": "stdout",
     "output_type": "stream",
     "text": [
      "9\n"
     ]
    }
   ],
   "source": [
    "# 5.\tWrite a Python program to find second largest number in a list?\n",
    "\n",
    "def second_largest(numbers):\n",
    "    # find the largest number\n",
    "    largest = max(numbers)\n",
    "\n",
    "    # remove the largest number from the list\n",
    "    numbers.remove(largest)\n",
    "\n",
    "    # find the second largest number\n",
    "    second_largest = max(numbers)\n",
    "\n",
    "    return second_largest\n",
    "\n",
    "\n",
    "numbers = [1, 2, 3, 4, 5, 6, 7, 8, 9, 10]\n",
    "print(second_largest(numbers)) "
   ]
  },
  {
   "cell_type": "code",
   "execution_count": 11,
   "id": "11bb780b",
   "metadata": {},
   "outputs": [
    {
     "name": "stdout",
     "output_type": "stream",
     "text": [
      "[9, 8, 7]\n"
     ]
    }
   ],
   "source": [
    "# 6.\tWrite a Python program to find N largest elements from a list?\n",
    "def n_largest(numbers, n):\n",
    "    # sort the list in descending order\n",
    "    numbers.sort(reverse=True)\n",
    "\n",
    "    # return the first n elements\n",
    "    return numbers[:n]\n",
    "\n",
    "# test the function\n",
    "numbers = [1, 2, 3, 4, 5, 6, 7, 8, 9]\n",
    "print(n_largest(numbers, 3))\n"
   ]
  },
  {
   "cell_type": "code",
   "execution_count": 12,
   "id": "e9a47fcc",
   "metadata": {},
   "outputs": [
    {
     "name": "stdout",
     "output_type": "stream",
     "text": [
      "2\n",
      "4\n",
      "6\n",
      "8\n"
     ]
    }
   ],
   "source": [
    "# 7.\tWrite a Python program to print even numbers in a list?\n",
    "def print_even(numbers):\n",
    "    for num in numbers:\n",
    "        if num % 2 == 0:\n",
    "            print(num)\n",
    "\n",
    "# test the function\n",
    "numbers = [1, 2, 3, 4, 5, 6, 7, 8, 9]\n",
    "print_even(numbers)"
   ]
  },
  {
   "cell_type": "code",
   "execution_count": 13,
   "id": "22c45949",
   "metadata": {},
   "outputs": [
    {
     "name": "stdout",
     "output_type": "stream",
     "text": [
      "1\n",
      "3\n",
      "5\n",
      "7\n",
      "9\n"
     ]
    }
   ],
   "source": [
    "# 8.\tWrite a Python program to print odd numbers in a List?\n",
    "def print_odd(numbers):\n",
    "    for num in numbers:\n",
    "        if num % 2 != 0:\n",
    "            print(num)\n",
    "\n",
    "# test the function\n",
    "numbers = [1, 2, 3, 4, 5, 6, 7, 8, 9]\n",
    "print_odd(numbers)"
   ]
  },
  {
   "cell_type": "code",
   "execution_count": 14,
   "id": "5fcec25b",
   "metadata": {},
   "outputs": [
    {
     "name": "stdout",
     "output_type": "stream",
     "text": [
      "[[1, 2, 3], [4, 5, 6], [7, 8, 9]]\n"
     ]
    }
   ],
   "source": [
    "# 9.\tWrite a Python program to Remove empty List from List?\n",
    "def remove_empty_lists(lists):\n",
    "    # remove empty lists using list comprehension\n",
    "    filtered_lists = [lst for lst in lists if lst]\n",
    "    return filtered_lists\n",
    "\n",
    "\n",
    "lists = [[], [1, 2, 3], [], [4, 5, 6], [], [7, 8, 9]]\n",
    "print(remove_empty_lists(lists)) \n"
   ]
  },
  {
   "cell_type": "code",
   "execution_count": 15,
   "id": "0461e419",
   "metadata": {},
   "outputs": [
    {
     "name": "stdout",
     "output_type": "stream",
     "text": [
      "[1, 2, 3, 4, 5]\n"
     ]
    }
   ],
   "source": [
    "# 10.\tWrite a Python program to Cloning or Copying a list?\n",
    "original_list = [1, 2, 3, 4, 5]\n",
    "new_list = original_list.copy()\n",
    "print(new_list)"
   ]
  },
  {
   "cell_type": "code",
   "execution_count": 16,
   "id": "93546d39",
   "metadata": {},
   "outputs": [
    {
     "name": "stdout",
     "output_type": "stream",
     "text": [
      "4\n"
     ]
    }
   ],
   "source": [
    "# 11.\tWrite a Python program to Count occurrences of an element in a list?\n",
    "my_list = [1, 2, 3, 4, 1, 2, 3, 1, 2, 1]\n",
    "x = 1\n",
    "count = my_list.count(x)\n",
    "print(count)"
   ]
  },
  {
   "cell_type": "code",
   "execution_count": null,
   "id": "e6d45455",
   "metadata": {},
   "outputs": [],
   "source": []
  }
 ],
 "metadata": {
  "kernelspec": {
   "display_name": "Python 3 (ipykernel)",
   "language": "python",
   "name": "python3"
  },
  "language_info": {
   "codemirror_mode": {
    "name": "ipython",
    "version": 3
   },
   "file_extension": ".py",
   "mimetype": "text/x-python",
   "name": "python",
   "nbconvert_exporter": "python",
   "pygments_lexer": "ipython3",
   "version": "3.10.9"
  }
 },
 "nbformat": 4,
 "nbformat_minor": 5
}
