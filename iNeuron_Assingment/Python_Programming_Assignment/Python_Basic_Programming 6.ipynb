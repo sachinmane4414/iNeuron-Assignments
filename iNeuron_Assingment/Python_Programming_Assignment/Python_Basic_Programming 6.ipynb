{
 "cells": [
  {
   "cell_type": "code",
   "execution_count": null,
   "id": "e8ff4ada",
   "metadata": {},
   "outputs": [
    {
     "name": "stdout",
     "output_type": "stream",
     "text": [
      "How many terms? 56\n",
      "Fibonacci sequence:\n",
      "0\n",
      "1\n",
      "1\n",
      "2\n",
      "3\n",
      "5\n",
      "8\n",
      "13\n",
      "21\n",
      "34\n",
      "55\n",
      "89\n",
      "144\n",
      "233\n",
      "377\n",
      "610\n",
      "987\n",
      "1597\n",
      "2584\n",
      "4181\n",
      "6765\n",
      "10946\n",
      "17711\n",
      "28657\n",
      "46368\n",
      "75025\n",
      "121393\n",
      "196418\n",
      "317811\n",
      "514229\n",
      "832040\n",
      "1346269\n",
      "2178309\n",
      "3524578\n",
      "5702887\n",
      "9227465\n",
      "14930352\n",
      "24157817\n"
     ]
    }
   ],
   "source": [
    "# 1.\tWrite a Python Program to Display Fibonacci Sequence Using Recursion?\n",
    "def fibonacci(n):\n",
    "    if n <= 0:\n",
    "        return 0\n",
    "    elif n == 1:\n",
    "        return 1\n",
    "    else:\n",
    "        return fibonacci(n-1) + fibonacci(n-2)\n",
    "\n",
    "# test the function\n",
    "nterms = int(input(\"How many terms? \"))\n",
    "\n",
    "if nterms <= 0:\n",
    "    print(\"Plese enter a positive integer\")\n",
    "else:\n",
    "    print(\"Fibonacci sequence:\")\n",
    "    for i in range(nterms):\n",
    "        print(fibonacci(i))\n",
    "\n",
    "fibonacci(5)"
   ]
  },
  {
   "cell_type": "code",
   "execution_count": null,
   "id": "79406a50",
   "metadata": {},
   "outputs": [],
   "source": [
    "# 2.\tWrite a Python Program to Find Factorial of Number Using Recursion?\n",
    "def factorial(n):\n",
    "    if n == 0:\n",
    "        return 1\n",
    "    else:\n",
    "        return n * factorial(n-1)\n",
    "\n",
    "num = int(input(\"Enter a number: \"))\n",
    "\n",
    "if num < 0:\n",
    "    print(\"Sorry, factorial does not exist for negative numbers\")\n",
    "elif num == 0:\n",
    "    print(\"The factorial of 0 is 1\")\n",
    "else:\n",
    "    print(\"The factorial of\", num, \"is\", factorial(num))\n",
    "\n",
    "factorial(2)"
   ]
  },
  {
   "cell_type": "code",
   "execution_count": 2,
   "id": "99de81d8",
   "metadata": {},
   "outputs": [
    {
     "name": "stdout",
     "output_type": "stream",
     "text": [
      "Enter your weight in kg: 75\n",
      "Enter your height in meters: 5.4\n",
      "Your BMI is: 2.57\n",
      "You are Underweight\n"
     ]
    }
   ],
   "source": [
    "# 3.\tWrite a Python Program to calculate your Body Mass Index?\n",
    "def calculate_bmi(weight, height):\n",
    "    bmi = weight / (height ** 2)\n",
    "    return bmi\n",
    "\n",
    "weight = float(input(\"Enter your weight in kg: \"))\n",
    "height = float(input(\"Enter your height in meters: \"))\n",
    "\n",
    "bmi = calculate_bmi(weight, height)\n",
    "\n",
    "print(\"Your BMI is: {:.2f}\".format(bmi))\n",
    "\n",
    "if bmi < 18.5:\n",
    "    print(\"You are Underweight\")\n",
    "elif bmi >= 18.5 and bmi < 25:\n",
    "    print(\"You are Healthy\")\n",
    "elif bmi >= 25 and bmi < 30:\n",
    "    print(\"You are Overweight\")\n",
    "else:\n",
    "    print(\"You are Obese\")\n"
   ]
  },
  {
   "cell_type": "code",
   "execution_count": 3,
   "id": "3d0e454b",
   "metadata": {},
   "outputs": [
    {
     "name": "stdout",
     "output_type": "stream",
     "text": [
      "Enter a number: 59\n",
      "The natural logarithm of 59.0 is 4.07753744390572\n"
     ]
    }
   ],
   "source": [
    "# 4.\tWrite a Python Program to calculate the natural logarithm of any number?\n",
    "import math\n",
    "\n",
    "x = float(input(\"Enter a number: \"))\n",
    "\n",
    "result = math.log(x)\n",
    "\n",
    "print(\"The natural logarithm of\", x, \"is\", result)\n"
   ]
  },
  {
   "cell_type": "code",
   "execution_count": 4,
   "id": "5f6631b4",
   "metadata": {},
   "outputs": [
    {
     "name": "stdout",
     "output_type": "stream",
     "text": [
      "Enter a number: 25\n",
      "The cube sum of first 25 natural numbers is 105625\n"
     ]
    }
   ],
   "source": [
    "# 5.\tWrite a Python Program for cube sum of first n natural numbers?\n",
    "n = int(input(\"Enter a number: \"))\n",
    "\n",
    "sum = 0\n",
    "\n",
    "for i in range(1, n+1):\n",
    "    sum += i**3\n",
    "\n",
    "print(\"The cube sum of first\", n, \"natural numbers is\", sum)"
   ]
  },
  {
   "cell_type": "code",
   "execution_count": null,
   "id": "311bfbe7",
   "metadata": {},
   "outputs": [],
   "source": []
  }
 ],
 "metadata": {
  "kernelspec": {
   "display_name": "Python 3 (ipykernel)",
   "language": "python",
   "name": "python3"
  },
  "language_info": {
   "codemirror_mode": {
    "name": "ipython",
    "version": 3
   },
   "file_extension": ".py",
   "mimetype": "text/x-python",
   "name": "python",
   "nbconvert_exporter": "python",
   "pygments_lexer": "ipython3",
   "version": "3.10.9"
  }
 },
 "nbformat": 4,
 "nbformat_minor": 5
}
