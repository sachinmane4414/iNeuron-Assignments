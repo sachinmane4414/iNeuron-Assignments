{
 "cells": [
  {
   "cell_type": "code",
   "execution_count": 1,
   "id": "1863aaec",
   "metadata": {},
   "outputs": [
    {
     "name": "stdout",
     "output_type": "stream",
     "text": [
      "['sample', 'sentence', 'greater', 'length']\n"
     ]
    }
   ],
   "source": [
    "# 1.\tWrite a Python program to find words which are greater than given length k?\n",
    "def find_words_greater_than_k(k, string):\n",
    "  words = string.split()\n",
    "  result = []\n",
    "  for word in words:\n",
    "    if len(word) > k:\n",
    "      result.append(word)\n",
    "  return result\n",
    "\n",
    "k = 5\n",
    "string = \"This is a sample sentence to find words greater than a given length\"\n",
    "print(find_words_greater_than_k(k, string))\n"
   ]
  },
  {
   "cell_type": "code",
   "execution_count": 2,
   "id": "8847c64b",
   "metadata": {},
   "outputs": [
    {
     "name": "stdout",
     "output_type": "stream",
     "text": [
      "Original String:  Hello World!\n",
      "String after removing the i-th character:  Hello orld!\n"
     ]
    }
   ],
   "source": [
    "# 2.\tWrite a Python program for removing i-th character from a string?\n",
    "def remove_ith_char(i, string):\n",
    "    return string[:i] + string[i+1:]\n",
    "\n",
    "string = \"Hello World!\"\n",
    "i = 6\n",
    "\n",
    "print(\"Original String: \",string)\n",
    "print(\"String after removing the i-th character: \",remove_ith_char(i, string))\n"
   ]
  },
  {
   "cell_type": "code",
   "execution_count": 3,
   "id": "6d75f114",
   "metadata": {},
   "outputs": [
    {
     "name": "stdout",
     "output_type": "stream",
     "text": [
      "['Hello', 'World!']\n",
      "Hello World!\n"
     ]
    }
   ],
   "source": [
    "# 3.\tWrite a Python program to split and join a string?\n",
    "\n",
    "# Splitting a string\n",
    "string = \"Hello World!\"\n",
    "result = string.split()\n",
    "print(result)\n",
    "\n",
    "#Joining a list of strings\n",
    "words = [\"Hello\", \"World!\"]\n",
    "result = \" \".join(words)\n",
    "print(result)\n"
   ]
  },
  {
   "cell_type": "code",
   "execution_count": 4,
   "id": "81950239",
   "metadata": {},
   "outputs": [
    {
     "name": "stdout",
     "output_type": "stream",
     "text": [
      "The given string is a binary string.\n"
     ]
    }
   ],
   "source": [
    "# 4.\tWrite a Python to check if a given string is binary string or not?\n",
    "\n",
    "def is_binary_string(string):\n",
    "    for char in string:\n",
    "        if char != '0' and char != '1':\n",
    "            return False\n",
    "    return True\n",
    "\n",
    "string = \"010101\"\n",
    "result = is_binary_string(string)\n",
    "if result:\n",
    "    print(\"The given string is a binary string.\")\n",
    "else:\n",
    "    print(\"The given string is not a binary string.\")\n"
   ]
  },
  {
   "cell_type": "code",
   "execution_count": 5,
   "id": "56dcd9e6",
   "metadata": {},
   "outputs": [
    {
     "name": "stdout",
     "output_type": "stream",
     "text": [
      "{'have', 'are', 'today?', 'been?'}\n"
     ]
    }
   ],
   "source": [
    "# 5.\tWrite a Python program to find uncommon words from two Strings?\n",
    "\n",
    "def find_uncommon_words(string1, string2):\n",
    "    words1 = set(string1.split())\n",
    "    words2 = set(string2.split())\n",
    "    uncommon_words = words1.symmetric_difference(words2)\n",
    "    return uncommon_words\n",
    "\n",
    "string1 = \"Hello World! How are you today?\"\n",
    "string2 = \"Hello World! How have you been?\"\n",
    "\n",
    "print(find_uncommon_words(string1, string2))\n"
   ]
  },
  {
   "cell_type": "code",
   "execution_count": 6,
   "id": "e9a1bacb",
   "metadata": {},
   "outputs": [
    {
     "name": "stdout",
     "output_type": "stream",
     "text": [
      "['l', 'o']\n"
     ]
    }
   ],
   "source": [
    "# 6.\tWrite a Python to find all duplicate characters in string?\n",
    "def find_duplicate_characters(string):\n",
    "    duplicate_chars = []\n",
    "    for char in string:\n",
    "        if string.count(char) > 1:\n",
    "            if char not in duplicate_chars:\n",
    "                duplicate_chars.append(char)\n",
    "    return duplicate_chars\n",
    "\n",
    "string = \"hello world\"\n",
    "print(find_duplicate_characters(string))\n"
   ]
  },
  {
   "cell_type": "code",
   "execution_count": 7,
   "id": "76d10767",
   "metadata": {},
   "outputs": [
    {
     "name": "stdout",
     "output_type": "stream",
     "text": [
      "The given string contains special characters.\n"
     ]
    }
   ],
   "source": [
    "# 7.\tWrite a Python Program to check if a string contains any special character?\n",
    "import re\n",
    "\n",
    "def has_special_char(string):\n",
    "    return bool(re.search(r'[^a-zA-Z0-9\\s]', string))\n",
    "\n",
    "string = \"Hello World! How are you today?\"\n",
    "result = has_special_char(string)\n",
    "if result:\n",
    "    print(\"The given string contains special characters.\")\n",
    "else:\n",
    "    print(\"The given string does not contain special characters.\")\n"
   ]
  },
  {
   "cell_type": "code",
   "execution_count": null,
   "id": "dabda32d",
   "metadata": {},
   "outputs": [],
   "source": []
  }
 ],
 "metadata": {
  "kernelspec": {
   "display_name": "Python 3 (ipykernel)",
   "language": "python",
   "name": "python3"
  },
  "language_info": {
   "codemirror_mode": {
    "name": "ipython",
    "version": 3
   },
   "file_extension": ".py",
   "mimetype": "text/x-python",
   "name": "python",
   "nbconvert_exporter": "python",
   "pygments_lexer": "ipython3",
   "version": "3.10.9"
  }
 },
 "nbformat": 4,
 "nbformat_minor": 5
}
