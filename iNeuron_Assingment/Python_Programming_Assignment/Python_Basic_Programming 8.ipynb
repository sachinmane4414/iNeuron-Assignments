{
 "cells": [
  {
   "cell_type": "code",
   "execution_count": 5,
   "id": "dc7d6ee0",
   "metadata": {},
   "outputs": [
    {
     "name": "stdout",
     "output_type": "stream",
     "text": [
      "[[15 10 14]\n",
      " [ 9 10 11]\n",
      " [ 9 10  9]]\n"
     ]
    }
   ],
   "source": [
    "# 1.\tWrite a Python Program to Add Two Matrices?\n",
    "import numpy as np\n",
    "mat1 = np.array([[6, 2, 7], [1, 5, 7], [2, 8, 8]])\n",
    "mat2 = np.array([[9, 8, 7], [8, 5, 4], [7, 2, 1]])\n",
    "result = np.add(mat1,mat2)\n",
    "print(result)"
   ]
  },
  {
   "cell_type": "code",
   "execution_count": 7,
   "id": "e94cacab",
   "metadata": {},
   "outputs": [
    {
     "name": "stdout",
     "output_type": "stream",
     "text": [
      "[[ 97 104]\n",
      " [ 69  72]]\n"
     ]
    }
   ],
   "source": [
    "# 2.\tWrite a Python Program to Multiply Two Matrices?\n",
    "mat1 = np.array([[5, 8], [3, 6]])\n",
    "mat2 = np.array([[5, 8], [9, 8]])\n",
    "result = np.dot(mat1, mat2)\n",
    "print(result)"
   ]
  },
  {
   "cell_type": "code",
   "execution_count": 8,
   "id": "43ad43fd",
   "metadata": {},
   "outputs": [
    {
     "name": "stdout",
     "output_type": "stream",
     "text": [
      "[[1 4 7]\n",
      " [2 5 8]\n",
      " [3 6 9]]\n"
     ]
    }
   ],
   "source": [
    "# 3.\tWrite a Python Program to Transpose a Matrix?\n",
    "\n",
    "matrix = np.array([[1, 2, 3], [4, 5, 6], [7, 8, 9]])\n",
    "result = np.transpose(matrix)\n",
    "print(result)"
   ]
  },
  {
   "cell_type": "code",
   "execution_count": 9,
   "id": "725c4abb",
   "metadata": {},
   "outputs": [
    {
     "name": "stdout",
     "output_type": "stream",
     "text": [
      "The sorted words are:\n",
      "an\n",
      "cased\n",
      "example\n",
      "hello\n",
      "is\n",
      "letters\n",
      "this\n",
      "with\n"
     ]
    }
   ],
   "source": [
    "# 4.\tWrite a Python Program to Sort Words in Alphabetic Order?\n",
    "\n",
    "my_str = \"Hello this Is an Example With cased letters\"\n",
    "\n",
    "# breakdown the string into a list of words\n",
    "words = [word.lower() for word in my_str.split()]\n",
    "\n",
    "# sort the list\n",
    "words.sort()\n",
    "\n",
    "# display the sorted words\n",
    "\n",
    "print(\"The sorted words are:\")\n",
    "for word in words:\n",
    "   print(word)\n"
   ]
  },
  {
   "cell_type": "code",
   "execution_count": 10,
   "id": "29d42c59",
   "metadata": {},
   "outputs": [
    {
     "name": "stdout",
     "output_type": "stream",
     "text": [
      "Hello World How are you Im fine thank you\n"
     ]
    }
   ],
   "source": [
    "# 5.\tWrite a Python Program to Remove Punctuation From a String?\n",
    "import string\n",
    "\n",
    "def remove_punctuation(input_string):\n",
    "    translator = str.maketrans('', '', string.punctuation)\n",
    "    no_punct = input_string.translate(translator)\n",
    "    return no_punct\n",
    "\n",
    "input_string = \"Hello, World! How are you? I'm fine, thank you.\"\n",
    "print(remove_punctuation(input_string))\n"
   ]
  },
  {
   "cell_type": "code",
   "execution_count": null,
   "id": "06be7f57",
   "metadata": {},
   "outputs": [],
   "source": []
  }
 ],
 "metadata": {
  "kernelspec": {
   "display_name": "Python 3 (ipykernel)",
   "language": "python",
   "name": "python3"
  },
  "language_info": {
   "codemirror_mode": {
    "name": "ipython",
    "version": 3
   },
   "file_extension": ".py",
   "mimetype": "text/x-python",
   "name": "python",
   "nbconvert_exporter": "python",
   "pygments_lexer": "ipython3",
   "version": "3.10.9"
  }
 },
 "nbformat": 4,
 "nbformat_minor": 5
}
