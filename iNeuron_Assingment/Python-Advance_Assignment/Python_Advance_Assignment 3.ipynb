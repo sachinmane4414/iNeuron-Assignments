{
 "cells": [
  {
   "cell_type": "markdown",
   "id": "6c3a00b6",
   "metadata": {},
   "source": [
    "### 1. What is the concept of an abstract superclass?\n",
    "In Python, an abstract superclass is a class that cannot be instantiated and is designed to be subclassed by other classes. An abstract superclass typically defines methods and properties that its subclasses must implement. It serves as a blueprint or a template for the subclasses to follow. \n",
    "\n",
    "Python has a built-in `abc` module that provides tools for defining abstract classes. To create an abstract class, you can define a class with one or more abstract methods using the `@abstractmethod` decorator. An abstract method is a method that is declared in the abstract class but does not have an implementation. Subclasses of the abstract class must implement all of the abstract methods to be considered concrete classes. \n",
    "\n",
    "Here's an example of an abstract superclass in Python:\n",
    "\n",
    "```python\n",
    "from abc import ABC, abstractmethod\n",
    "\n",
    "class Shape(ABC):\n",
    "    @abstractmethod\n",
    "    def area(self):\n",
    "        pass\n",
    "\n",
    "    @abstractmethod\n",
    "    def perimeter(self):\n",
    "        pass\n",
    "```\n",
    "\n",
    "In this example, `Shape` is an abstract superclass that defines two abstract methods, `area` and `perimeter`. Any concrete subclasses of `Shape` must implement these methods."
   ]
  },
  {
   "cell_type": "markdown",
   "id": "2968693e",
   "metadata": {},
   "source": [
    "### 2. What happens when a class statement&#39;s top level contains a basic assignment statement?\n",
    "When a class statement's top level contains a basic assignment statement, it creates a class-level attribute, not an instance-level attribute. This means that the attribute is shared by all instances of the class and can be accessed and modified using the class name rather than an instance name. For example:\n",
    "\n",
    "```python\n",
    "class MyClass:\n",
    "    x = 0  # class-level attribute\n",
    "    \n",
    "    def __init__(self, y):\n",
    "        self.y = y  # instance-level attribute\n",
    "        \n",
    "obj1 = MyClass(1)\n",
    "obj2 = MyClass(2)\n",
    "\n",
    "print(obj1.x)  # output: 0\n",
    "print(obj2.x)  # output: 0\n",
    "\n",
    "MyClass.x = 10  # modify the class-level attribute\n",
    "\n",
    "print(obj1.x)  # output: 10\n",
    "print(obj2.x)  # output: 10\n",
    "```\n",
    "\n",
    "In this example, `x` is a class-level attribute, which is shared by all instances of the `MyClass` class. When the value of `x` is changed using `MyClass.x = 10`, the change is reflected in all instances of the class."
   ]
  },
  {
   "cell_type": "markdown",
   "id": "49cc15ff",
   "metadata": {},
   "source": [
    "### 3. Why does a class need to manually call a superclass&#39;s __init__ method?\n",
    "\n",
    "In Python, when a class is derived from a superclass, it inherits all the attributes and methods of the superclass. However, the subclass may have additional attributes or methods that are specific to it. In order to initialize both the subclass and the superclass, the subclass's `__init__` method needs to explicitly call the superclass's `__init__` method using the `super()` function. This ensures that both the subclass and the superclass are properly initialized and all their attributes are correctly set up. If the subclass does not call the superclass's `__init__` method, the superclass's attributes will not be initialized, and the subclass may not function as intended.\n"
   ]
  },
  {
   "cell_type": "markdown",
   "id": "e6508b3b",
   "metadata": {},
   "source": [
    "### 4. How can you augment, instead of completely replacing, an inherited method?\n",
    "In Python, you can augment an inherited method instead of completely replacing it by calling the superclass method within the subclass method and modifying its output as desired. This is typically done using the `super()` function, which returns a temporary object of the superclass that allows you to call its methods. \n",
    "\n",
    "For example, let's say we have a parent class `Animal` with a `speak()` method:\n",
    "\n",
    "```python\n",
    "class Animal:\n",
    "    def speak(self):\n",
    "        print(\"The animal speaks.\")\n",
    "```\n",
    "\n",
    "And we want to create a subclass `Dog` that augments the `speak()` method to add a bark:\n",
    "\n",
    "```python\n",
    "class Dog(Animal):\n",
    "    def speak(self):\n",
    "        super().speak() # Call the superclass speak() method\n",
    "        print(\"The dog barks.\")\n",
    "```\n",
    "\n",
    "Now when we create an instance of the `Dog` class and call the `speak()` method, it will first call the `Animal` class's `speak()` method and then add a bark:\n",
    "\n",
    "```python\n",
    ">>> d = Dog()\n",
    ">>> d.speak()\n",
    "The animal speaks.\n",
    "The dog barks.\n",
    "```"
   ]
  },
  {
   "cell_type": "markdown",
   "id": "1180bab9",
   "metadata": {},
   "source": [
    "### 5. How is the local scope of a class different from that of a function?\n",
    "The local scope of a class and that of a function are different in several ways:\n",
    "\n",
    "1. **Access to variables:** In a function, local variables can only be accessed within the function's scope. In a class, instance variables can be accessed from anywhere within the class, but local variables can only be accessed within the method in which they are defined.\n",
    "\n",
    "2. **Lifetime of variables:** In a function, local variables are created when the function is called and destroyed when the function returns. In a class, instance variables are created when an object is instantiated and destroyed when the object is destroyed.\n",
    "\n",
    "3. **Scope of variables:** In a function, variables defined in the function are local to that function and cannot be accessed from outside the function. In a class, variables defined at the class level are class variables and can be accessed from anywhere within the class, including other methods.\n",
    "\n",
    "4. **Namespace:** Functions have their own namespace, which is separate from the global namespace. Classes also have their own namespace, but it is shared by all instances of the class.\n",
    "\n",
    "5. **Self parameter:** All instance methods in a class have an implicit first parameter called `self`, which refers to the instance on which the method is called. Functions do not have this parameter.\n",
    "\n",
    "Overall, the local scope of a class is more flexible than that of a function because it allows for access to both instance variables and class variables from within any method of the class."
   ]
  },
  {
   "cell_type": "code",
   "execution_count": null,
   "id": "886a12ba",
   "metadata": {},
   "outputs": [],
   "source": []
  }
 ],
 "metadata": {
  "kernelspec": {
   "display_name": "Python 3 (ipykernel)",
   "language": "python",
   "name": "python3"
  },
  "language_info": {
   "codemirror_mode": {
    "name": "ipython",
    "version": 3
   },
   "file_extension": ".py",
   "mimetype": "text/x-python",
   "name": "python",
   "nbconvert_exporter": "python",
   "pygments_lexer": "ipython3",
   "version": "3.10.9"
  }
 },
 "nbformat": 4,
 "nbformat_minor": 5
}
