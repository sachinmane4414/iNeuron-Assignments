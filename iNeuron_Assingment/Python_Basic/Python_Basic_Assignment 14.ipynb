{
 "cells": [
  {
   "cell_type": "markdown",
   "id": "efccc162",
   "metadata": {},
   "source": [
    "# Assignment 14"
   ]
  },
  {
   "cell_type": "markdown",
   "id": "75adf291",
   "metadata": {},
   "source": [
    "#### 1. What does RGBA stand for?\n",
    "**Ans:** **RGBA** is a four-channel format containing data for `Red`, `Green`, `Blue`, and an `Alpha` value. Where Alpha Represents the Opacity"
   ]
  },
  {
   "cell_type": "markdown",
   "id": "cf36f377",
   "metadata": {},
   "source": [
    "#### 2. From the Pillow module, how do you get the RGBA value of any images?\n",
    "**Ans:** **`ImageColor.getcolor()`** gives rgba value of any image "
   ]
  },
  {
   "cell_type": "markdown",
   "id": "a1b90dd2",
   "metadata": {},
   "source": [
    "#### 3. What is a box tuple, and how does it work?\n",
    "**Ans:** A box tuple is a tuple value of four integers: the left-edge x-coordinate, the top-edge y-coordinate,the width, and the height, respectively."
   ]
  },
  {
   "cell_type": "markdown",
   "id": "df676bc0",
   "metadata": {},
   "source": [
    "#### 4. Use your image and load in notebook then, How can you find out the width and height of an Image object?"
   ]
  },
  {
   "cell_type": "code",
   "execution_count": null,
   "id": "9db78ce9",
   "metadata": {},
   "outputs": [],
   "source": []
  },
  {
   "cell_type": "markdown",
   "id": "231556d5",
   "metadata": {},
   "source": [
    "#### 5. What method would you call to get Image object for a 100×100 image, excluding the lower-left quarter of it?"
   ]
  },
  {
   "cell_type": "code",
   "execution_count": null,
   "id": "b8b14973",
   "metadata": {},
   "outputs": [],
   "source": []
  },
  {
   "cell_type": "markdown",
   "id": "6c67c35e",
   "metadata": {},
   "source": [
    "#### 6. After making changes to an Image object, how could you save it as an image file?"
   ]
  },
  {
   "cell_type": "code",
   "execution_count": null,
   "id": "a8434872",
   "metadata": {},
   "outputs": [],
   "source": []
  },
  {
   "cell_type": "markdown",
   "id": "2436ec0a",
   "metadata": {},
   "source": [
    "#### 7. What module contains Pillow’s shape-drawing code?\n",
    "**Ans:** Pillows **`ImageDraw`** module contains Shape drawing methods"
   ]
  },
  {
   "cell_type": "markdown",
   "id": "3b6872bb",
   "metadata": {},
   "source": [
    "#### 8. Image objects do not have drawing methods. What kind of object does? How do you get this kind of object?\n",
    "**Ans:** ImageDraw objects have shape-drawing methods such as `point()`, `line()`, or `rectangle()`.They are returned by passing the Image object to the `ImageDraw.Draw()` function."
   ]
  },
  {
   "cell_type": "code",
   "execution_count": null,
   "id": "5160c88b",
   "metadata": {},
   "outputs": [],
   "source": []
  }
 ],
 "metadata": {
  "kernelspec": {
   "display_name": "Python 3 (ipykernel)",
   "language": "python",
   "name": "python3"
  },
  "language_info": {
   "codemirror_mode": {
    "name": "ipython",
    "version": 3
   },
   "file_extension": ".py",
   "mimetype": "text/x-python",
   "name": "python",
   "nbconvert_exporter": "python",
   "pygments_lexer": "ipython3",
   "version": "3.10.9"
  }
 },
 "nbformat": 4,
 "nbformat_minor": 5
}
