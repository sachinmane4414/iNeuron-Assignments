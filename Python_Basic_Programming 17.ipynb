{
 "cells": [
  {
   "cell_type": "markdown",
   "id": "cf0498ce",
   "metadata": {},
   "source": [
    "## Question1. \n",
    "Create a function that takes three arguments a, b, c and returns the sum of the numbers that are evenly divided by c from the range a, b inclusive.\n",
    "\n",
    "Examples\n",
    "```\n",
    "evenly_divisible(1, 10, 20) ➞ 0\n",
    "# No number between 1 and 10 can be evenly divided by 20.\n",
    "\n",
    "evenly_divisible(1, 10, 2) ➞ 30\n",
    "# 2 + 4 + 6 + 8 + 10 = 30\n",
    "\n",
    "evenly_divisible(1, 10, 3) ➞ 18\n",
    "# 3 + 6 + 9 = 18\n",
    "```\n"
   ]
  },
  {
   "cell_type": "code",
   "execution_count": 1,
   "id": "5f54897a",
   "metadata": {},
   "outputs": [
    {
     "name": "stdout",
     "output_type": "stream",
     "text": [
      "18\n"
     ]
    }
   ],
   "source": [
    "def evenly_divisible(a, b, c):\n",
    "    return sum([x for x in range(a, b+1) if x % c == 0])\n",
    "\n",
    "print(evenly_divisible(1, 10, 3)) # Output: 18"
   ]
  },
  {
   "cell_type": "markdown",
   "id": "a5090c1e",
   "metadata": {},
   "source": [
    "## Question2. \n",
    "Create a function that returns True if a given inequality expression is correct and False otherwise.\n",
    "\n",
    "Examples\n",
    "```\n",
    "correct_signs(\"3 < 7 < 11\") ➞ True\n",
    "\n",
    "correct_signs(\"13 > 44 > 33 > 1\") ➞ False\n",
    "\n",
    "correct_signs(\"1 < 2 < 6 < 9 > 3\") ➞ True\n",
    "```"
   ]
  },
  {
   "cell_type": "code",
   "execution_count": 2,
   "id": "a234eb2e",
   "metadata": {},
   "outputs": [
    {
     "name": "stdout",
     "output_type": "stream",
     "text": [
      "True\n",
      "False\n",
      "True\n"
     ]
    }
   ],
   "source": [
    "def correct_signs(expr):\n",
    "    return eval(expr)\n",
    "\n",
    "print(correct_signs(\"3 < 7 < 11\")) # Output: True\n",
    "print(correct_signs(\"13 > 44 > 33 > 1\")) # Output: False\n",
    "print(correct_signs(\"1 < 2 < 6 < 9 > 3\")) # Output: True"
   ]
  },
  {
   "cell_type": "markdown",
   "id": "51be403c",
   "metadata": {},
   "source": [
    "## Question3. \n",
    "Create a function that replaces all the vowels in a string with a specified character.\n",
    "\n",
    "Examples\n",
    "```\n",
    "replace_vowels(\"the aardvark\", \"#\") ➞ \"th# ##rdv#rk\"\n",
    "\n",
    "replace_vowels(\"minnie mouse\", \"?\") ➞ \"m?nn?? m??s?\"\n",
    "\n",
    "replace_vowels(\"shakespeare\", \"*\") ➞ \"sh*k*sp**r*\"\n",
    "```"
   ]
  },
  {
   "cell_type": "code",
   "execution_count": 3,
   "id": "29dad808",
   "metadata": {},
   "outputs": [
    {
     "name": "stdout",
     "output_type": "stream",
     "text": [
      "th# ##rdv#rk\n",
      "m?nn?? m??s?\n",
      "sh*k*sp**r*\n"
     ]
    }
   ],
   "source": [
    "def replace_vowels(string, char):\n",
    "    vowels = \"aeiouAEIOU\"\n",
    "    for vowel in vowels:\n",
    "        string = string.replace(vowel, char)\n",
    "    return string\n",
    "\n",
    "print(replace_vowels(\"the aardvark\", \"#\")) # Output: \"th# ##rdv#rk\"\n",
    "print(replace_vowels(\"minnie mouse\", \"?\")) # Output: \"m?nn?? m??s?\"\n",
    "print(replace_vowels(\"shakespeare\", \"*\")) # Output: \"sh*k*sp**r*\""
   ]
  },
  {
   "cell_type": "markdown",
   "id": "2f71a7da",
   "metadata": {},
   "source": [
    "## Question4. \n",
    "Write a function that calculates the factorial of a number recursively.\n",
    "\n",
    "Examples\n",
    "```\n",
    "factorial(5) ➞ 120\n",
    "\n",
    "factorial(3) ➞ 6\n",
    "\n",
    "factorial(1) ➞ 1\n",
    "\n",
    "factorial(0) ➞ 1\n",
    "```"
   ]
  },
  {
   "cell_type": "code",
   "execution_count": 4,
   "id": "ef25d752",
   "metadata": {},
   "outputs": [
    {
     "name": "stdout",
     "output_type": "stream",
     "text": [
      "5\n",
      "0\n",
      "1\n"
     ]
    }
   ],
   "source": [
    "def hamming_distance(s1, s2):\n",
    "    if len(s1) != len(s2):\n",
    "        raise ValueError(\"Input strings must have the same length\")\n",
    "    return sum(1 for x, y in zip(s1, s2) if x != y)\n",
    "\n",
    "\n",
    "print(hamming_distance(\"abcde\", \"bcdef\")) # Output: 5\n",
    "print(hamming_distance(\"abcde\", \"abcde\")) # Output: 0\n",
    "print(hamming_distance(\"strong\", \"strung\")) # Output: 1"
   ]
  },
  {
   "cell_type": "code",
   "execution_count": null,
   "id": "41aa012b",
   "metadata": {},
   "outputs": [],
   "source": []
  }
 ],
 "metadata": {
  "kernelspec": {
   "display_name": "Python 3 (ipykernel)",
   "language": "python",
   "name": "python3"
  },
  "language_info": {
   "codemirror_mode": {
    "name": "ipython",
    "version": 3
   },
   "file_extension": ".py",
   "mimetype": "text/x-python",
   "name": "python",
   "nbconvert_exporter": "python",
   "pygments_lexer": "ipython3",
   "version": "3.10.9"
  }
 },
 "nbformat": 4,
 "nbformat_minor": 5
}
